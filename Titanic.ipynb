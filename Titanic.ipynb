{
  "nbformat": 4,
  "nbformat_minor": 0,
  "metadata": {
    "colab": {
      "provenance": []
    },
    "kernelspec": {
      "name": "python3",
      "display_name": "Python 3"
    },
    "language_info": {
      "name": "python"
    }
  },
  "cells": [
    {
      "cell_type": "code",
      "execution_count": 1,
      "metadata": {
        "colab": {
          "base_uri": "https://localhost:8080/"
        },
        "id": "Wug_Gyi1Psoe",
        "outputId": "d7164b5b-eab9-429b-fa69-198e77152658"
      },
      "outputs": [
        {
          "output_type": "stream",
          "name": "stdout",
          "text": [
            "Mounted at /content/drive\n"
          ]
        }
      ],
      "source": [
        "from google.colab import drive\n",
        "drive.mount('/content/drive')\n"
      ]
    },
    {
      "cell_type": "code",
      "source": [
        "import pandas as pd\n",
        "titanic_data= pd.read_csv(\"/content/drive/My Drive/Datasets/titanic_dataset.csv\")"
      ],
      "metadata": {
        "id": "z2R6psLEQO8g"
      },
      "execution_count": 9,
      "outputs": []
    },
    {
      "cell_type": "code",
      "source": [
        "# Find total number of passengers with age less than 30\n",
        "passengers_age_less_than_30 = titanic_data[titanic_data['Age'] < 30]\n",
        "total_passengers_age_less_than_30 = passengers_age_less_than_30.shape[0]\n",
        "print(\"Total number of passengers with age less than 30:\",total_passengers_age_less_than_30)"
      ],
      "metadata": {
        "colab": {
          "base_uri": "https://localhost:8080/"
        },
        "id": "gGlx7nkFQypt",
        "outputId": "4f475d9d-9dec-4472-e079-5b544a3e687e"
      },
      "execution_count": 10,
      "outputs": [
        {
          "output_type": "stream",
          "name": "stdout",
          "text": [
            "Total number of passengers with age less than 30: 384\n"
          ]
        }
      ]
    },
    {
      "cell_type": "code",
      "source": [
        "# Find total fare paid by passengers of first class\n",
        "first_class_passengers = titanic_data[titanic_data['Pclass'] == 1]\n",
        "total_fare_first_class = first_class_passengers['Fare'].sum()\n",
        "print(\"Total fare paid by passengers of first class:\", total_fare_first_class)\n"
      ],
      "metadata": {
        "colab": {
          "base_uri": "https://localhost:8080/"
        },
        "id": "sAsl0wA7SAF_",
        "outputId": "e989fe00-1e32-43e8-807f-0b8f8474edf6"
      },
      "execution_count": 11,
      "outputs": [
        {
          "output_type": "stream",
          "name": "stdout",
          "text": [
            "Total fare paid by passengers of first class: 18177.4125\n"
          ]
        }
      ]
    },
    {
      "cell_type": "code",
      "source": [
        "# Compare number of survivors of each passenger class\n",
        "survivors_by_class = titanic_data.groupby('Pclass')['Survived'].sum()\n",
        "print(\"Number of survivors by passenger class:\")\n",
        "print(survivors_by_class)"
      ],
      "metadata": {
        "colab": {
          "base_uri": "https://localhost:8080/"
        },
        "id": "5i6S76dQSSyR",
        "outputId": "0ffc86ba-8aa1-423e-a0f0-671dca0ad45f"
      },
      "execution_count": 12,
      "outputs": [
        {
          "output_type": "stream",
          "name": "stdout",
          "text": [
            "Number of survivors by passenger class:\n",
            "Pclass\n",
            "1    136\n",
            "2     87\n",
            "3    119\n",
            "Name: Survived, dtype: int64\n"
          ]
        }
      ]
    },
    {
      "cell_type": "code",
      "source": [],
      "metadata": {
        "id": "Jzu-RMCGSdgd"
      },
      "execution_count": null,
      "outputs": []
    }
  ]
}